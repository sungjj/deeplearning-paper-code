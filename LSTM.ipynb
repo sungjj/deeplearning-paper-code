{
 "cells": [
  {
   "cell_type": "markdown",
   "metadata": {
    "id": "clIFh_guHNFv"
   },
   "source": [
    "> ### EEE4423: Deep Learning Lab\n",
    "\n",
    "# LAB \\#11: Character Generation using LSTM"
   ]
  },
  {
   "cell_type": "markdown",
   "metadata": {
    "id": "Un-_JnG1HNF1"
   },
   "source": [
    "<h4><div style=\"text-align: right\"> Due date: May 18, 2023. </div> <br>\n",
    "<div style=\"text-align: right\"> Please upload your file @ LearnUs by 2 PM in the form of [ID_Name_Lab11.ipynb]. </div></h4>\n",
    "\n",
    "### *Instructions:*\n",
    "- Write a program implementing a particular algorithm to solve a given problem.   \n",
    "- <span style=\"color:red\">**Report and discuss your results. Analyze the algorithm, theoretically and empirically.**</span> \n",
    "- Each team must write their own answers and codes (<span style=\"color:red\">**if not you will get a F grade**</span>)."
   ]
  },
  {
   "cell_type": "markdown",
   "metadata": {
    "id": "Nats-XhJHNF2"
   },
   "source": [
    "<h2><span style=\"color:blue\">[2019142079] [성재진]</span> </h2>"
   ]
  },
  {
   "cell_type": "code",
   "execution_count": 1,
   "metadata": {
    "id": "DUNE2wXfHNF2",
    "outputId": "cf8804ce-9063-463d-988f-cd900bd149b1",
    "tags": []
   },
   "outputs": [
    {
     "name": "stdout",
     "output_type": "stream",
     "text": [
      "This code is written at 2023-05-18 02:30:02.629776\n"
     ]
    }
   ],
   "source": [
    "import datetime\n",
    "print(\"This code is written at \" + str(datetime.datetime.now()))"
   ]
  },
  {
   "cell_type": "code",
   "execution_count": 2,
   "metadata": {
    "tags": []
   },
   "outputs": [
    {
     "name": "stdout",
     "output_type": "stream",
     "text": [
      "Requirement already satisfied: unidecode in ./.local/lib/python3.6/site-packages (1.3.6)\n",
      "\u001b[33mWARNING: Running pip as the 'root' user can result in broken permissions and conflicting behaviour with the system package manager. It is recommended to use a virtual environment instead: https://pip.pypa.io/warnings/venv\u001b[0m\n",
      "\u001b[33mWARNING: You are using pip version 21.3.1; however, version 23.1.2 is available.\n",
      "You should consider upgrading via the '/usr/bin/python -m pip install --upgrade pip' command.\u001b[0m\n"
     ]
    }
   ],
   "source": [
    "!pip install unidecode --user"
   ]
  },
  {
   "cell_type": "code",
   "execution_count": 3,
   "metadata": {
    "id": "J8vQvyjWHNF5",
    "tags": []
   },
   "outputs": [],
   "source": [
    "import unidecode\n",
    "import string\n",
    "import random\n",
    "import re\n",
    "import os\n",
    "\n",
    "import torch\n",
    "import torch.nn as nn\n",
    "from torch.autograd import Variable"
   ]
  },
  {
   "cell_type": "markdown",
   "metadata": {
    "id": "O9OP9XM9HNF5"
   },
   "source": [
    "These sorts of generative models form the basis of machine translation, image captioning, question answering and more.\n",
    "\n",
    "<img src=\"http://drive.google.com/uc?export=view&id=16E7HG_dCyfTo9u9qrrhp2eClq6xK6-f_\" style=\"width: 600px;\"/>"
   ]
  },
  {
   "cell_type": "markdown",
   "metadata": {
    "id": "6YQl92mwHNF6"
   },
   "source": [
    "### 1. Prepare data\n",
    "\n",
    "The file we are using is a plain text file. We turn any potential unicode characters into plain ASCII by using the `unidecode` package"
   ]
  },
  {
   "cell_type": "markdown",
   "metadata": {
    "id": "ymNU_-ZGHNF6"
   },
   "source": [
    "<img src=\"http://drive.google.com/uc?export=view&id=171lX3vxj60AQNScQi872BHx2Rz6J7-3J\" />"
   ]
  },
  {
   "cell_type": "code",
   "execution_count": 4,
   "metadata": {
    "id": "TFK9sT_1HNF6",
    "outputId": "1bbcf9b6-7367-4aba-ff59-7a3e6134441d",
    "tags": []
   },
   "outputs": [
    {
     "name": "stdout",
     "output_type": "stream",
     "text": [
      "file_len = 4063\n"
     ]
    }
   ],
   "source": [
    "file = unidecode.unidecode(open('./dataset-dllab/lab11/lose_yourself_eminem.txt').read())\n",
    "file_len = len(file)\n",
    "print('file_len =', file_len)"
   ]
  },
  {
   "cell_type": "markdown",
   "metadata": {
    "id": "TUyRw-C2HNF6"
   },
   "source": [
    "To make inputs out of this big string of data, we will be splitting it into chunks."
   ]
  },
  {
   "cell_type": "code",
   "execution_count": 5,
   "metadata": {
    "id": "6nPqv8tuHNF7",
    "outputId": "2a05a019-0267-43fd-9e6a-cbcf9c5ac4c3",
    "tags": []
   },
   "outputs": [
    {
     "name": "stdout",
     "output_type": "stream",
     "text": [
      "clocks run out, times up, over, blaow!\n",
      "Snap back to reality, oh there goes gravity\n",
      "Oh, there goes Rabbit, he choked\n",
      "He's so mad, but he won't give up that easy? No\n",
      "He won't have it, he knows his whole \n"
     ]
    }
   ],
   "source": [
    "chunk_len = 200\n",
    "\n",
    "def random_chunk():\n",
    "    start_index = random.randint(0, file_len - chunk_len)\n",
    "    end_index = start_index + chunk_len + 1\n",
    "    return file[start_index:end_index]\n",
    "\n",
    "print(random_chunk())"
   ]
  },
  {
   "cell_type": "markdown",
   "metadata": {
    "id": "ScRzeDr8HNF9"
   },
   "source": [
    "Each chunk will be turned into a tensor by looping through the characters of the string and looking up the index of each character in `all_characters`."
   ]
  },
  {
   "cell_type": "code",
   "execution_count": 6,
   "metadata": {
    "id": "TylqhpuyHNF9",
    "outputId": "9e4b9d7e-bea0-41a5-d853-caaa711be679",
    "tags": []
   },
   "outputs": [
    {
     "name": "stdout",
     "output_type": "stream",
     "text": [
      "0123456789abcdefghijklmnopqrstuvwxyzABCDEFGHIJKLMNOPQRSTUVWXYZ!\"#$%&'()*+,-./:;<=>?@[\\]^_`{|}~ \t\n",
      "\u000b",
      "\f",
      "\n",
      "abcDEF is changed to  tensor([10, 11, 12, 39, 40, 41])\n"
     ]
    }
   ],
   "source": [
    "# Turn string into list of longs\n",
    "all_characters = string.printable\n",
    "print(all_characters)\n",
    "\n",
    "def char_tensor(string):\n",
    "    tensor = torch.zeros(len(string)).long()\n",
    "    for c in range(len(string)):\n",
    "        tensor[c] = all_characters.index(string[c])\n",
    "    return Variable(tensor)\n",
    "\n",
    "print('abcDEF is changed to ', char_tensor('abcDEF'))"
   ]
  },
  {
   "cell_type": "markdown",
   "metadata": {
    "id": "b1XvIwnaHNF9"
   },
   "source": [
    "Finally we can assemble a pair of input and target tensors for training, from a random chunk. The input will be all characters *up to the last*, and the target will be all characters *from the first*. So if our chunk is \"abc\" the input will correspond to \"ab\" while the target is \"bc\"."
   ]
  },
  {
   "cell_type": "code",
   "execution_count": 7,
   "metadata": {
    "id": "YfaPPbDMHNF-",
    "tags": []
   },
   "outputs": [],
   "source": [
    "def random_training_set():    \n",
    "    chunk = random_chunk()\n",
    "    inputs = char_tensor(chunk[:-1])\n",
    "    targets = char_tensor(chunk[1:])\n",
    "    return inputs, targets"
   ]
  },
  {
   "cell_type": "markdown",
   "metadata": {
    "id": "uaQ88mGNHNF-"
   },
   "source": [
    "### 2. Build the LSTM model [4 points]\n",
    "\n",
    "#### [Diagram of LSTM]\n",
    "<img src=\"http://drive.google.com/uc?export=view&id=1baQ6Ffu-vDcXbOEBYGeLzhmfvaj4DGgW\" style=\"width: 800px;\"/>\n",
    "LSTM consists of cell state, hidden state and 3 gates that modify or use the cell state. The cell state is the key part of the LSTM and you can think that information \"flows\" in there. The operation of 3 gates are described in below.\n",
    "\n",
    "#### [Forget Gate]\n",
    "The forget gate determines which information in the cell state should be erased.\n",
    "<img src=\"http://drive.google.com/uc?export=view&id=1sJisl5P0hggmvH4qrcYgSETFKdFdBSH_\" style=\"width: 600px;\"/>\n",
    "\n",
    "#### [Input Gate]\n",
    "First, the candidate cell state is created using the current input and the previous hidden state. And the input gate determines how much the candidate cell state is reflected to the cell state.\n",
    "<img src=\"http://drive.google.com/uc?export=view&id=1Df-k5FORGH7PnXauYcb8qqUpY3Uot9A7\" style=\"width: 600px;\"/>\n",
    "\n",
    "#### [Output Gate]\n",
    "The output gate determines which elements should be extracted from the cell state to produce the output.\n",
    "<img src=\"http://drive.google.com/uc?export=view&id=1JLCGPcrZLOYfjyJhMTvmfixHq5plFj8L\" style=\"width: 600px;\"/>\n",
    "\n",
    "The above expression is summarized as follows,\n",
    "<img src=\"http://drive.google.com/uc?export=view&id=1kGq8DwwzizuNcg6GF0GaP1DAu26FFlrB\" style=\"width: 300px;\"/>\n"
   ]
  },
  {
   "cell_type": "markdown",
   "metadata": {
    "id": "my4efNewHNF-"
   },
   "source": [
    "This model will take as input the character for step $t_{-1}$ and is expected to output the next character $t$. There are three layers - one linear layer that encodes the input character into an internal state, one LSTM layer that operates on that internal state and a hidden state, and a decoder layer that outputs the probability distribution."
   ]
  },
  {
   "cell_type": "code",
   "execution_count": 8,
   "metadata": {
    "id": "nDOFfcpsHNF-",
    "outputId": "82c1c3f6-2ca7-464a-d3d6-ae601daea999"
   },
   "outputs": [
    {
     "data": {
      "text/plain": [
       "LSTMModel(\n",
       "  (encoder): Embedding(100, 100)\n",
       "  (f): Sequential(\n",
       "    (0): Linear(in_features=200, out_features=100, bias=True)\n",
       "    (1): Sigmoid()\n",
       "  )\n",
       "  (i): Sequential(\n",
       "    (0): Linear(in_features=200, out_features=100, bias=True)\n",
       "    (1): Sigmoid()\n",
       "  )\n",
       "  (c): Sequential(\n",
       "    (0): Linear(in_features=200, out_features=100, bias=True)\n",
       "    (1): Tanh()\n",
       "  )\n",
       "  (o): Sequential(\n",
       "    (0): Linear(in_features=200, out_features=100, bias=True)\n",
       "    (1): Sigmoid()\n",
       "  )\n",
       "  (tanh): Tanh()\n",
       "  (decoder): Linear(in_features=100, out_features=100, bias=True)\n",
       ")"
      ]
     },
     "execution_count": 8,
     "metadata": {},
     "output_type": "execute_result"
    }
   ],
   "source": [
    "class LSTMModel(nn.Module):\n",
    "    def __init__(self, input_dim, hidden_dim, layer_dim, output_dim):\n",
    "        super(LSTMModel, self).__init__()\n",
    "        \n",
    "        self.input_dim = input_dim\n",
    "        self.hidden_dim = hidden_dim\n",
    "        self.layer_dim = layer_dim\n",
    "        self.output_dim = output_dim\n",
    "        \n",
    "        self.encoder = nn.Embedding(input_dim, hidden_dim)\n",
    "        \n",
    "        # lstm\n",
    "        # The size of input is (batch_size, seq_dim, hidden_dim)\n",
    "        #size of input (1,1,100)\n",
    "        \n",
    "        #############\n",
    "        self.f=nn.Sequential(\n",
    "        nn.Linear(input_dim+hidden_dim,hidden_dim),\n",
    "        nn.Sigmoid())\n",
    "        \n",
    "        self.i=nn.Sequential(\n",
    "        nn.Linear(input_dim+hidden_dim, hidden_dim),\n",
    "        nn.Sigmoid())\n",
    "        \n",
    "        self.c=nn.Sequential(\n",
    "        nn.Linear(input_dim+hidden_dim,hidden_dim),\n",
    "        nn.Tanh())\n",
    "        \n",
    "        self.o=nn.Sequential(\n",
    "        nn.Linear(input_dim+hidden_dim, hidden_dim),\n",
    "        nn.Sigmoid())\n",
    "        \n",
    "        self.tanh=nn.Tanh()\n",
    "        #############\n",
    "        \n",
    "        self.decoder = nn.Linear(hidden_dim, output_dim)\n",
    "    \n",
    "    def forward(self, input, hn, cn):\n",
    "        #############\n",
    "        #print('hn:',hn.shape) #(1,1,100)\n",
    "        #print('cn:',cn.shape) #(1,1,100)\n",
    "        #print('input:',input.shape) #(1,1)\n",
    "        #First layer\n",
    "        enc_vec=self.encoder(input) # (1,1,100)\n",
    "        \n",
    "        #Second layer\n",
    "        hx=torch.cat((hn[0],enc_vec[:,0,:]),1)#차원 순서가 다르기 때문에 차원을 맞추어 concatenation해준다. (1,2*hidden_dim)=(1,200)\n",
    "        f=self.f(hx)#forget gate의 f\n",
    "        i=self.i(hx)#input gate의 i\n",
    "        c_tilda=self.c(hx)#input gate의 c_tilda\n",
    "        o=self.o(hx)#output gate의 o\n",
    "        cn=(f*cn[:,0,:]+i*c_tilda).unsqueeze(0)#t에서의 c\n",
    "        hn=o*self.tanh(cn[:,0,:]).unsqueeze(0)#t에서의 h\n",
    "        \n",
    "        #Third layer\n",
    "        output=self.decoder(hn)\n",
    "        \n",
    "        #############\n",
    "        return output, hn, cn\n",
    "    \n",
    "    def init_hidden(self):\n",
    "        #############\n",
    "        h0=Variable(torch.zeros((self.layer_dim,1,self.hidden_dim)).cuda())#(layer_dim,batch_size,hidden_dim)\n",
    "        c0=Variable(torch.zeros((self.layer_dim,1,self.hidden_dim)).cuda())\n",
    "        #############\n",
    "        return h0,c0\n",
    "    \n",
    "hidden_dim = 100\n",
    "n_layers = 1\n",
    "n_characters = len(all_characters)\n",
    "\n",
    "model = LSTMModel(n_characters, hidden_dim, n_layers, n_characters) #100,100,1,100\n",
    "model.cuda()"
   ]
  },
  {
   "cell_type": "markdown",
   "metadata": {
    "id": "2qajoki2HNF_"
   },
   "source": [
    "### 3. Loss function and optimizer"
   ]
  },
  {
   "cell_type": "code",
   "execution_count": 9,
   "metadata": {
    "id": "xvm-picHHNF_"
   },
   "outputs": [],
   "source": [
    "criterion = nn.CrossEntropyLoss()\n",
    "\n",
    "lr = 0.005\n",
    "optimizer = torch.optim.Adam(model.parameters(), lr=lr)"
   ]
  },
  {
   "cell_type": "markdown",
   "metadata": {
    "id": "5haXxzwOHNF_"
   },
   "source": [
    "### 4 . Write the character level generation code [4 points]\n",
    "\n",
    "- Generate a sentence with a length of $predict\\_len$, starting from a single character $prime\\_str$.\n",
    "- Example) evaluate(prime_str='Y', predict_len=20) -> You better let it go"
   ]
  },
  {
   "cell_type": "code",
   "execution_count": 10,
   "metadata": {
    "id": "JKkMfsh1HNF_"
   },
   "outputs": [],
   "source": [
    "def evaluate(prime_str='W', predict_len=100):\n",
    "    # suppose prims_str is a single character\n",
    "    # and use greedy search to predict the next character\n",
    "\n",
    "    hn, cn = model.init_hidden()\n",
    "    predicted=str()\n",
    "    \n",
    "    for i in range(predict_len):\n",
    "        #############\n",
    "        output,hn,cn=model(char_tensor(prime_str).unsqueeze(0).cuda(),hn,cn)\n",
    "        prime_str=all_characters[torch.argmax(output[0])]#output[0]에서 가장 높은 확률의 index의 문자가 예측 문자다\n",
    "        predicted+=prime_str#예측 문자를 이어 sequence를 만든다.\n",
    "        #############\n",
    "        \n",
    "    return predicted\n",
    "    "
   ]
  },
  {
   "cell_type": "markdown",
   "metadata": {
    "id": "vt4VFJd5HNF_"
   },
   "source": [
    "### 5 . Write the code to train the model [2 points]\n",
    "\n",
    "- Plot the training loss curve.\n",
    "- Print the output sentence with a length of 100, using $evaluate()$ function."
   ]
  },
  {
   "cell_type": "code",
   "execution_count": 11,
   "metadata": {
    "id": "LC0xsnlRHNF_",
    "outputId": "069881bd-f136-4501-fcbc-e8bb0bf3afbd",
    "scrolled": true
   },
   "outputs": [
    {
     "name": "stdout",
     "output_type": "stream",
     "text": [
      "************************* epoch100 *************************\n",
      "loss 307.9841\n",
      " onl one the the the the the the the the the the the the the the the the the the the the the the the \n",
      "\n",
      "************************* epoch200 *************************\n",
      "loss 376.9794\n",
      " only go the the the the the the the the the the the the the the the the the the the the the the the \n",
      "\n",
      "************************* epoch300 *************************\n",
      "loss 115.5422\n",
      " cames once in the moment\n",
      "You own it, you better never let it go\n",
      "You only get one the moment\n",
      "You own \n",
      "\n",
      "************************* epoch400 *************************\n",
      "loss 291.7099\n",
      " he the moment\n",
      "You own it, you better lose yourself in the moment\n",
      "You own it, you better lose yourse \n",
      "\n",
      "************************* epoch500 *************************\n",
      "loss 198.7910\n",
      " so blows he moment\n",
      "You own it, you better never let it go\n",
      "You only get one shot, do not miss your c \n",
      "\n",
      "************************* epoch600 *************************\n",
      "loss 170.5652\n",
      " home and sold partna, but the better never let it go\n",
      "You only get one shot, do not miss your chance \n",
      "\n",
      "************************* epoch700 *************************\n",
      "loss 180.3777\n",
      " he looks call rage\n",
      "Tear this motherfuckin' on out\n",
      "He change the cold all or not it go\n",
      "You only get  \n",
      "\n",
      "************************* epoch800 *************************\n",
      "loss 124.1907\n",
      " wand the surface to fore mo fore move to next schmo home one shot, do not miss your chance to blow\n",
      " \n",
      "\n",
      "************************* epoch900 *************************\n",
      "loss 31.1660\n",
      " back to blow\n",
      "This opportunity comes once in a lifetime you better\n",
      "You better lose yourself in the m \n",
      "\n",
      "************************* epoch1000 *************************\n",
      "loss 24.7308\n",
      " get one shot, do not miss your chance to blow\n",
      "This opportunity comes once in a lifetime you better\n",
      " \n",
      "\n",
      "************************* epoch1100 *************************\n",
      "loss 59.4788\n",
      " but he knows his whole back city's ropes\n",
      "It don't buy diapers\n",
      "And its\n",
      "Back the believer let it go\n",
      "Y \n",
      "\n",
      "************************* epoch1200 *************************\n",
      "loss 58.6854\n",
      " but he knows his whole back to this whole in the music, the moment\n",
      "You own it, you better never let \n",
      "\n",
      "************************* epoch1300 *************************\n",
      "loss 72.9721\n",
      " better lose yourself in the music, the moment\n",
      "You own it, you better never let it go\n",
      "You only get o \n",
      "\n",
      "************************* epoch1400 *************************\n",
      "loss 37.0409\n",
      " but he kept rhymin' and stepwritin' the point, I'm like a snail I've got\n",
      "To formulate a plot fore I \n",
      "\n",
      "************************* epoch1500 *************************\n",
      "loss 30.0205\n",
      " beat goes on forgettin'\n",
      "What he wrote down, the whole crowd goes so loud\n",
      "He opens his mouth, but th \n",
      "\n",
      "************************* epoch1600 *************************\n",
      "loss 31.7629\n",
      " be's no Mekhi Phifer\n",
      "This is my only motherfuckin' option, failures not\n",
      "Mom, I love you, but the be \n",
      "\n",
      "************************* epoch1700 *************************\n",
      "loss 53.1860\n",
      " be's no Mekhi Phifer\n",
      "This is my life and these times are so hard\n",
      "And it's getting even harder tryin \n",
      "\n",
      "************************* epoch1800 *************************\n",
      "loss 39.9473\n",
      " better never let it go\n",
      "You only get one shot, do not miss your chance to blow\n",
      "This opportunity come \n",
      "\n",
      "************************* epoch1900 *************************\n",
      "loss 44.3823\n",
      " better lose yourself in the music, the moment\n",
      "You own it, you better never let it go\n",
      "You only get o \n",
      "\n",
      "************************* epoch2000 *************************\n",
      "loss 35.2412\n",
      " belin have it, the mood all changed\n",
      "I been chewed up that its grows hotter\n",
      "He blows us all over the \n",
      "\n"
     ]
    },
    {
     "data": {
      "text/plain": [
       "[<matplotlib.lines.Line2D at 0x7f25edab0be0>]"
      ]
     },
     "execution_count": 11,
     "metadata": {},
     "output_type": "execute_result"
    },
    {
     "data": {
      "image/png": "[encoded data removed]",
      "text/plain": [
       "<Figure size 432x288 with 1 Axes>"
      ]
     },
     "metadata": {
      "needs_background": "light"
     },
     "output_type": "display_data"
    }
   ],
   "source": [
    "n_epochs = 2000\n",
    "print_every = 100\n",
    "plot_every = 10\n",
    "\n",
    "all_losses = []\n",
    "loss_avg = 0\n",
    "\n",
    "for epoch in range(1, n_epochs + 1):\n",
    "    #############\n",
    "    # CODE HERE #\n",
    "    #############\n",
    "    # Load text\n",
    "    inputs, targets = random_training_set()\n",
    "    if inputs.size()[0] < 200: continue\n",
    "    \n",
    "    # Clear gradients w.r.t. parameters\n",
    "    #############\n",
    "    model.train()\n",
    "    model.zero_grad()\n",
    "    optimizer.zero_grad()\n",
    "    #############\n",
    "    # Forward pass\n",
    "    loss = 0\n",
    "    #############\n",
    "    hn, cn = model.init_hidden()\n",
    "    for i,index in enumerate(inputs):#input 길이만큼 반복\n",
    "        output,hn,cn=model(index.unsqueeze(0).unsqueeze(0).cuda(),hn,cn)#dimension을 맞춰준다\n",
    "        loss+=criterion(output[0],targets[i].unsqueeze(0).cuda())#각각의 index에 대한 loss를 더해준다.\n",
    "    #############\n",
    "    # Backward pass\n",
    "    #############\n",
    "    loss.backward()\n",
    "    #############\n",
    "    # Updating parameters\n",
    "    #############\n",
    "    optimizer.step()\n",
    "    #############\n",
    "    loss_avg += loss.item() / chunk_len\n",
    "\n",
    "    if epoch % print_every == 0:\n",
    "        print('*'*25, 'epoch%d'%epoch, '*'*25)\n",
    "        print('loss %.4f'%loss.item())\n",
    "        print(evaluate('I', 100), '\\n')\n",
    "\n",
    "    if epoch % plot_every == 0:\n",
    "        all_losses.append(loss_avg / plot_every)\n",
    "        loss_avg = 0\n",
    "\n",
    "#################################################\n",
    "import matplotlib.pyplot as plt\n",
    "%matplotlib inline\n",
    "\n",
    "plt.figure()\n",
    "plt.plot(all_losses)"
   ]
  },
  {
   "cell_type": "markdown",
   "metadata": {
    "id": "XCGRgEuZHNF_"
   },
   "source": [
    "### *References*\n",
    "[1] [practical pytorch](https://github.com/spro/practical-pytorch)(https://github.com/spro/practical-pytorch)\n",
    "\n",
    "[2] [CS 231n](http://cs231n.stanford.edu/syllabus.html)(http://cs231n.stanford.edu/syllabus.html)"
   ]
  },
  {
   "cell_type": "markdown",
   "metadata": {},
   "source": [
    "### *Discussion*\n",
    "\n",
    "\n",
    "그동안 convolution을 이용한 vision문제를 다뤘었는데 이번에는 처음으로 NLP문제를 다뤘다. RNN의 변형 버전인 LSTM을 구현하였는데 LSTM은 RNN의 long-term dependency를 해결하기 위해 cell state를 추가해 이전의 information을 기억하고 forget gate를 통해 information을 취사 선택한다. 따라서 RNN보다 훨씬 복잡한 구조를 가지고 있다.\n",
    "\n",
    "NLP를 처음 다루어보았기 때문에 데이터의 형태와 변형이 와닿지가 않아 차원을 다루는 것에 조금 어려움이 있었다. 또한 그동안과 다르게 sequential한 data이므로 이것을 단순하게 for문을 써서 loss를 계산해도 되는지에 대해 의문이 있었다. 하지만 결과 그래프를 확인해보았을 때 정상적으로 학습이 진행되는 것을 확인할 수 있다. epoch에 따른 결과물을 살펴보면, epoch이 작을 때는, 특정 단어를 계속 반복하면서 predict가 제대로 되지 않는 모습이 보인다. epoch가 진행될수록 점점 더 그럴듯한 문장을 만들어내지만 epoch가 2000이 되어도, 겉으로 보기에는 그럴듯하지만 의미는 잘 알 수 없는 문장이 나온다. epoch가 부족해서 그런 것일수도 있기 때문에 epoch 2000에 더해서 epoch 3000을 추가적으로 시행한 것을 아래에 첨부한다. 첨부한 결과를 보면, epoch를 2000만 시행했을때보다 훨씬 완성도 있는 문장을 predict하는 것을 볼 수 있다. 추가적으로 재밌는 점은 다른 부분과 다르게 후렴부분은 epoch이 그렇게 크지 않아도 완벽하게 나오는 것을 볼 수 있는데 이는 후렴이 많이 반복되기 때문이라고 생각된다.\n",
    "\n",
    "한가지 의문점이 있는데 주어진 코드에서 loss를 출력할 때 print와 plot이 다르게 출력된다는 것이다. skeleton에서 print는 loss.item()을 출력하는데 이는 chunk_len, 즉 200만큼의 prediction의 loss를 모두 더한 값이다. 반면에 loss_avg/plot_every는 200만큼의 prediction의 loss를 모두 더한 값에서 chunk_len만큼 나눠준 값 10개의 평균이다. 따라서 print에서 직접적으로 표시되는 loss의 값과 plot에서 볼 수 있는 loss의 값은 대략적으로 200배가 차이가 난다. 게다가 print한 값은 평균 값이 아니라 loss가 튀는 경우가 print될 수 있어 loss가 epoch에 따라 감소하는 모습을 보기가 어렵다. 따라서 합리적이게 생각하면, print도 loss_avg/plot_every로 출력하는 것이 옳다고 생각한다.\n"
   ]
  },
  {
   "cell_type": "code",
   "execution_count": 12,
   "metadata": {},
   "outputs": [
    {
     "name": "stdout",
     "output_type": "stream",
     "text": [
      "************************* epoch100 *************************\n",
      "loss 51.0012\n",
      " been he looks calm and ready\n",
      "To drop bombly keeps on forgettin'\n",
      "What he wrote down, the whole crowd \n",
      "\n",
      "************************* epoch200 *************************\n",
      "loss 9.1691\n",
      " better never let it go\n",
      "You only get one shot, do not miss your chance to blow\n",
      "This opportunity come \n",
      "\n",
      "************************* epoch300 *************************\n",
      "loss 58.5508\n",
      " but hole that you calld a lifetime you better\n",
      "You better lose yourself in the music, the moment\n",
      "You \n",
      "\n",
      "************************* epoch400 *************************\n",
      "loss 35.1698\n",
      " but he won't come out\n",
      "He's chokin', how, everybody's jokin' now\n",
      "The clocks run out, times up, over, \n",
      "\n",
      "************************* epoch500 *************************\n",
      "loss 38.6941\n",
      " be's no Mekhi Phifer\n",
      "This is my life and these times are sweaty, knees weak, arms are heavy\n",
      "There's \n",
      "\n",
      "************************* epoch600 *************************\n",
      "loss 9.5793\n",
      " but he's broke\n",
      "He's so stacked that he knows, when he goes back to his mobile home, that's when its \n",
      "\n",
      "************************* epoch700 *************************\n",
      "loss 30.3327\n",
      " been father and a prima-donna\n",
      "Baby mama drama screamin' on and too much\n",
      "For me to want to say in on \n",
      "\n",
      "************************* epoch800 *************************\n",
      "loss 18.8738\n",
      " father\n",
      "He goes home and barely knows his own daughter\n",
      "But hold your nose 'cause here goes the cold  \n",
      "\n",
      "************************* epoch900 *************************\n",
      "loss 18.7434\n",
      " family 'cause man, these God damn food stamps don't buy diapers\n",
      "And its no formulate a plot fore I  \n",
      "\n",
      "************************* epoch1000 *************************\n",
      "loss 7.0860\n",
      " for music, the moment\n",
      "You own it, you better never let it go\n",
      "You only get one shot, do not miss you \n",
      "\n",
      "************************* epoch1100 *************************\n",
      "loss 27.4787\n",
      " move tomes on\n",
      "Da da dumb da dumb da da\n",
      "You better lose yourself in the music, the moment\n",
      "You own it \n",
      "\n",
      "************************* epoch1200 *************************\n",
      "loss 19.3396\n",
      " you better never let it go\n",
      "You only get one shot, do not miss your chance to blow\n",
      "This opportunity  \n",
      "\n",
      "************************* epoch1300 *************************\n",
      "loss 17.8301\n",
      "n yourself in the music, the moment\n",
      "You own it, you better never let it go\n",
      "You only get one shot, do \n",
      "\n",
      "************************* epoch1400 *************************\n",
      "loss 21.9694\n",
      " better\n",
      "You better lose yourself in the music, the moment\n",
      "You own it, you better never let it go\n",
      "You \n",
      "\n",
      "************************* epoch1500 *************************\n",
      "loss 32.6264\n",
      "' betinghing you ever life is borin', but the words won't come out\n",
      "He's chokin', how, everybody's jo \n",
      "\n",
      "************************* epoch1600 *************************\n",
      "loss 19.8146\n",
      " get one shot, do not miss your chance to blow\n",
      "This opportunity comes once in a lifetime you better\n",
      " \n",
      "\n",
      "************************* epoch1700 *************************\n",
      "loss 26.8649\n",
      " goes once in a lifetime you better\n",
      "You better lose yourself in the music, the moment\n",
      "You own it, yo \n",
      "\n",
      "************************* epoch1800 *************************\n",
      "loss 24.0082\n",
      " knows that, but he's broke\n",
      "He's so stacked that he knows, when he goes back to his mobile home, tha \n",
      "\n",
      "************************* epoch1900 *************************\n",
      "loss 14.4815\n",
      " knows hotter\n",
      "He goes home and barely knows his own daughter\n",
      "But hold your nose 'cause here goes the \n",
      "\n",
      "************************* epoch2000 *************************\n",
      "loss 20.2916\n",
      " get one shot, do not miss your chance to blow\n",
      "This opportunity\n",
      "Oh, there goes Rabbit, he choked\n",
      "He' \n",
      "\n",
      "************************* epoch2100 *************************\n",
      "loss 5.5914\n",
      " so mad, but he won't give up that easy? No\n",
      "He won't have it, he knows his whole back city's ropes\n",
      "I \n",
      "\n",
      "************************* epoch2200 *************************\n",
      "loss 16.9205\n",
      " but this trail has got to go, I cannot grow old water my seed, plus\n",
      "See dishonor caught up between  \n",
      "\n",
      "************************* epoch2300 *************************\n",
      "loss 13.2281\n",
      " kneas goes hot\n",
      "Success is my only motherfuckin' roof off like two dogs caged\n",
      "I was playin' in the b \n",
      "\n",
      "************************* epoch2400 *************************\n",
      "loss 10.7257\n",
      " knews whole rhapsody\n",
      "He better go capture this moment and hope it don't pass him\n",
      "You better lose yo \n",
      "\n",
      "************************* epoch2500 *************************\n",
      "loss 18.9081\n",
      " goes Rabbit, he choked\n",
      "He's so mad, but he won't give up that easy? No\n",
      "He won't pass him\n",
      "You better \n",
      "\n",
      "************************* epoch2600 *************************\n",
      "loss 25.3656\n",
      " goes once in a lifetime you better\n",
      "You better lose yourself in the music, the moment\n",
      "You own it, yo \n",
      "\n",
      "************************* epoch2700 *************************\n",
      "loss 27.4640\n",
      "'m a provide the right type of\n",
      "Life for my family 'cause man, these God damn food stamps don't buy d \n",
      "\n",
      "************************* epoch2800 *************************\n",
      "loss 29.0048\n",
      " mobet on his sweater already, moment\n",
      "You own it, you better never let it go\n",
      "You only get one shot,  \n",
      "\n",
      "************************* epoch2900 *************************\n",
      "loss 5.5477\n",
      " can't get by with my nine to\n",
      "Five and I can't panit go\n",
      "You only get one shot, do not miss your chan \n",
      "\n",
      "************************* epoch3000 *************************\n",
      "loss 11.8803\n",
      " you better never let it go\n",
      "You only get one shot, do not miss your chance to blow\n",
      "This opportunity  \n",
      "\n"
     ]
    },
    {
     "data": {
      "text/plain": [
       "[<matplotlib.lines.Line2D at 0x7f25ed940f60>]"
      ]
     },
     "execution_count": 12,
     "metadata": {},
     "output_type": "execute_result"
    },
    {
     "data": {
      "image/png": "[encoded data removed]",
      "text/plain": [
       "<Figure size 432x288 with 1 Axes>"
      ]
     },
     "metadata": {
      "needs_background": "light"
     },
     "output_type": "display_data"
    }
   ],
   "source": [
    "n_epochs = 3000\n",
    "print_every = 100\n",
    "plot_every = 10\n",
    "\n",
    "all_losses = []\n",
    "loss_avg = 0\n",
    "\n",
    "for epoch in range(1, n_epochs + 1):\n",
    "    #############\n",
    "    # CODE HERE #\n",
    "    #############\n",
    "    # Load text\n",
    "    inputs, targets = random_training_set()\n",
    "    if inputs.size()[0] < 200: continue\n",
    "    \n",
    "    # Clear gradients w.r.t. parameters\n",
    "    #############\n",
    "    model.train()\n",
    "    model.zero_grad()\n",
    "    optimizer.zero_grad()\n",
    "    #############\n",
    "    # Forward pass\n",
    "    loss = 0\n",
    "    #############\n",
    "    hn, cn = model.init_hidden()\n",
    "    for i,index in enumerate(inputs):#input 길이만큼 반복\n",
    "        output,hn,cn=model(index.unsqueeze(0).unsqueeze(0).cuda(),hn,cn)#dimension을 맞춰준다\n",
    "        loss+=criterion(output[0],targets[i].unsqueeze(0).cuda())#각각의 index에 대한 loss를 더해준다.\n",
    "    #############\n",
    "    # Backward pass\n",
    "    #############\n",
    "    loss.backward()\n",
    "    #############\n",
    "    # Updating parameters\n",
    "    #############\n",
    "    optimizer.step()\n",
    "    #############\n",
    "    loss_avg += loss.item() / chunk_len\n",
    "\n",
    "    if epoch % print_every == 0:\n",
    "        print('*'*25, 'epoch%d'%epoch, '*'*25)\n",
    "        print('loss %.4f'%loss.item())\n",
    "        print(evaluate('I', 100), '\\n')\n",
    "\n",
    "    if epoch % plot_every == 0:\n",
    "        all_losses.append(loss_avg / plot_every)\n",
    "        loss_avg = 0\n",
    "\n",
    "#################################################\n",
    "import matplotlib.pyplot as plt\n",
    "%matplotlib inline\n",
    "\n",
    "plt.figure()\n",
    "plt.plot(all_losses)"
   ]
  },
  {
   "cell_type": "code",
   "execution_count": null,
   "metadata": {},
   "outputs": [],
   "source": []
  }
 ],
 "metadata": {
  "colab": {
   "collapsed_sections": [],
   "name": "EEE4423_lab10_Character Generation using LSTM.ipynb",
   "provenance": []
  },
  "kernelspec": {
   "display_name": "Full on Python 3.6 (GPU)",
   "language": "python",
   "name": "python3"
  },
  "language_info": {
   "codemirror_mode": {
    "name": "ipython",
    "version": 3
   },
   "file_extension": ".py",
   "mimetype": "text/x-python",
   "name": "python",
   "nbconvert_exporter": "python",
   "pygments_lexer": "ipython3",
   "version": "3.6.14"
  }
 },
 "nbformat": 4,
 "nbformat_minor": 4
}
